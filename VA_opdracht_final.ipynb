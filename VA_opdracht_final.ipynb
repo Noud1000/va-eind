{
 "cells": [
  {
   "cell_type": "markdown",
   "id": "90610863",
   "metadata": {},
   "source": [
    "# Libraries"
   ]
  },
  {
   "cell_type": "code",
   "execution_count": 1,
   "id": "b281cb72",
   "metadata": {},
   "outputs": [],
   "source": [
    "import pandas as pd\n",
    "import geopandas as gpd\n",
    "import folium\n",
    "from folium.features import Choropleth\n",
    "import datetime as dt\n",
    "import streamlit as st\n",
    "from streamlit_folium import folium_static\n",
    "import plotly.express as px\n",
    "import numpy as np\n",
    "import statsmodels.api as sm\n",
    "import seaborn as sns\n",
    "import matplotlib.pyplot as plt\n",
    "from PIL import Image\n"
   ]
  },
  {
   "cell_type": "markdown",
   "id": "ae9a4870",
   "metadata": {},
   "source": [
    "# Data inladen"
   ]
  },
  {
   "cell_type": "code",
   "execution_count": 2,
   "id": "1ee7acf7",
   "metadata": {},
   "outputs": [],
   "source": [
    "states = gpd.read_file('gz_2010_us_040_00_5m.json')\n",
    "crimes_us = pd.read_csv('USPoliceViolence.csv')\n",
    "states_abbr = pd.read_csv('https://raw.githubusercontent.com/jasonong/List-of-US-States/master/states.csv')\n",
    "pop_20_21 = pd.read_csv('https://www2.census.gov/programs-surveys/popest/datasets/2020-2021/state/totals/NST-EST2021-alldata.csv')\n",
    "pop_us = pd.read_csv('https://www2.census.gov/programs-surveys/popest/datasets/2010-2019/national/totals/nst-est2019-alldata.csv')\n",
    "unemploy_us = pd.read_excel('unemploy.xls')\n",
    "unemploy_19_20 = pd.read_excel('unemployment.xlsx')\n",
    "race = pd.read_csv('race.csv')"
   ]
  },
  {
   "cell_type": "markdown",
   "id": "61273e51",
   "metadata": {},
   "source": [
    "# Data manipulatie"
   ]
  },
  {
   "cell_type": "markdown",
   "id": "339d81f7",
   "metadata": {},
   "source": [
    "### Hoofd dataset (crimes_us)"
   ]
  },
  {
   "cell_type": "code",
   "execution_count": 3,
   "id": "aab3deda",
   "metadata": {},
   "outputs": [],
   "source": [
    "crimes_us = pd.merge(crimes_us, states_abbr, how = 'inner', right_on = 'Abbreviation', left_on = 'State')\n",
    "crimes_us.drop('Abbreviation', axis = 1, inplace= True)\n",
    "crimes_us = pd.merge(crimes_us, states, how = 'inner', right_on = 'NAME', left_on = 'State_y')\n",
    "\n",
    "crimes_us['crimes_per_state'] = crimes_us.groupby('State_x')['State_x'].transform('count')\n",
    "\n",
    "crimes_us['datetime'] = pd.to_datetime(crimes_us['Date of Incident (month/day/year)'], format = '%Y-%m-%d')\n",
    "crimes_us['year'] = crimes_us['datetime'].dt.year\n",
    "\n",
    "crimes_us.drop('geometry', axis=1, inplace=True)\n",
    "crimes_us.drop(['Zipcode', 'Agency responsible for death', 'GEO_ID'], axis = 1, inplace = True)\n",
    "\n",
    "crimes_us['year'] = crimes_us['year'].astype(str)"
   ]
  },
  {
   "cell_type": "markdown",
   "id": "6dba41bc",
   "metadata": {},
   "source": [
    "### Dataset (pop_20_21 en pop_us)"
   ]
  },
  {
   "cell_type": "code",
   "execution_count": 4,
   "id": "74678021",
   "metadata": {},
   "outputs": [],
   "source": [
    "pop_20_21 = pop_20_21[['NAME', 'POPESTIMATE2020', 'POPESTIMATE2021']]\n",
    "\n",
    "pop_us = pd.merge(pop_us, pop_20_21, how = 'left', on = 'NAME')\n",
    "\n",
    "pop_us = pop_us[['NAME','POPESTIMATE2010', 'POPESTIMATE2011', 'POPESTIMATE2012', \n",
    "                'POPESTIMATE2013', 'POPESTIMATE2014', 'POPESTIMATE2015',\n",
    "                'POPESTIMATE2016', 'POPESTIMATE2017', 'POPESTIMATE2018',\n",
    "                'POPESTIMATE2019', 'POPESTIMATE2020', 'POPESTIMATE2021']]\n",
    "\n",
    "pop_us.rename(columns = {'POPESTIMATE2010' : '2010', 'POPESTIMATE2011' : '2011',\n",
    "                         'POPESTIMATE2012' : '2012', 'POPESTIMATE2013' : '2013',\n",
    "                         'POPESTIMATE2014' : '2014', 'POPESTIMATE2015' : '2015',\n",
    "                         'POPESTIMATE2016' : '2016', 'POPESTIMATE2017' : '2017',\n",
    "                         'POPESTIMATE2018' : '2018', 'POPESTIMATE2019' : '2019',\n",
    "                         'POPESTIMATE2020' : '2020', 'POPESTIMATE2021' : '2021'}, inplace = True)\n",
    "\n",
    "pop_us = pd.melt(pop_us, id_vars = 'NAME', value_vars = ['2010', '2011', '2012', '2013', '2014', '2015', '2016', '2017', '2018', '2019', '2020', '2021'],\n",
    "                value_name = 'population', var_name = 'year')"
   ]
  },
  {
   "cell_type": "markdown",
   "id": "50e9883f",
   "metadata": {},
   "source": [
    "### Hoofd dataset samenvoegen met populatie data"
   ]
  },
  {
   "cell_type": "code",
   "execution_count": 5,
   "id": "d08cffc1",
   "metadata": {},
   "outputs": [],
   "source": [
    "crimes_us = pd.merge(crimes_us, pop_us, how = 'outer', left_on = ['NAME', 'year'], right_on = ['NAME', 'year'])\n",
    "crimes_us = crimes_us[crimes_us['State_x'].notna()]\n",
    "\n",
    "crimes_us['crimes_per_year_state'] = crimes_us.groupby(['State_x', 'year'])['State_x'].transform('count')"
   ]
  },
  {
   "cell_type": "markdown",
   "id": "31ac3f08",
   "metadata": {},
   "source": [
    "### Dataset (unemploy_us en unemploy_19_20)"
   ]
  },
  {
   "cell_type": "code",
   "execution_count": 6,
   "id": "6da789a5",
   "metadata": {},
   "outputs": [],
   "source": [
    "unemploy_19_20 = unemploy_19_20.rename(columns = {'Unemployment rate 2019':'2019', 'Unemployment rate 2020':'2020'})\n",
    "\n",
    "unemploy_19_20 = pd.melt(unemploy_19_20, id_vars = 'Area', value_vars = ['2019', '2020'], value_name = 'unemploy rate', var_name = 'year')\n",
    "\n",
    "unemploy_us = unemploy_us[['Area', 2013, 2014, 2015, 2016, 2017, 2018]]\n",
    "unemploy_us = pd.melt(unemploy_us, id_vars = 'Area', value_vars = [2013, 2014, 2015, 2016, 2017, 2018], value_name = 'unemploy rate', var_name = 'year')\n",
    "\n",
    "unemploy_us['year'] = unemploy_us['year'].astype(str)\n",
    "\n",
    "unemploy_us = pd.concat([unemploy_us, unemploy_19_20])"
   ]
  },
  {
   "cell_type": "markdown",
   "id": "9bb3a7d7",
   "metadata": {},
   "source": [
    "### Unemployment data toevoegen aan hoofd dataset"
   ]
  },
  {
   "cell_type": "code",
   "execution_count": 7,
   "id": "a6c5e1d4",
   "metadata": {},
   "outputs": [],
   "source": [
    "crimes_us = pd.merge(crimes_us, unemploy_us, how = 'outer', left_on = ['NAME', 'year'], right_on = ['Area', 'year'])\n",
    "\n",
    "crimes_us = crimes_us[crimes_us['State_x'].notna()]\n",
    "\n",
    "crimes_us['unemploy rate'].fillna(crimes_us['unemploy rate'].mean(), inplace = True)"
   ]
  },
  {
   "cell_type": "markdown",
   "id": "4e508f4b",
   "metadata": {},
   "source": [
    "### Dataset victim's race"
   ]
  },
  {
   "cell_type": "code",
   "execution_count": 8,
   "id": "ddbac2cf",
   "metadata": {},
   "outputs": [],
   "source": [
    "race.drop('Footnotes', axis = 1, inplace = True)\n",
    "\n",
    "race = race[['Location', 'White', 'Black','Hispanic','Asian','American Indian/Alaska Native','Native Hawaiian/Other Pacific Islander']]\n",
    "\n",
    "race = pd.melt(race, id_vars = 'Location', value_vars = ['White', 'Black','Hispanic','Asian','American Indian/Alaska Native','Native Hawaiian/Other Pacific Islander'],\n",
    "               value_name = 'total', var_name = 'race')\n",
    "\n",
    "race['race'] = race['race'].replace('Native Hawaiian/Other Pacific Islander', 'Pacific Islander')\n",
    "race['race'] = race['race'].replace('American Indian/Alaska Native', 'Native American/Alaskan')"
   ]
  },
  {
   "cell_type": "code",
   "execution_count": 9,
   "id": "68adc4db",
   "metadata": {},
   "outputs": [],
   "source": [
    "crimes_us = pd.merge(crimes_us, race, right_on = ['Location', 'race'], left_on = ['State_y', \"Victim's race\"], how = 'outer')\n",
    "\n",
    "crimes_us = crimes_us[crimes_us['State_x'].notna()]"
   ]
  },
  {
   "cell_type": "code",
   "execution_count": 10,
   "id": "297aa340",
   "metadata": {},
   "outputs": [
    {
     "name": "stderr",
     "output_type": "stream",
     "text": [
      "C:\\Users\\noudv\\AppData\\Local\\Temp\\ipykernel_5476\\1878084118.py:2: FutureWarning: Indexing with multiple keys (implicitly converted to a tuple of keys) will be deprecated, use a list instead.\n",
      "  crimes_us2 = crimes_us1.groupby('State_x')[\"Victim's race\", 'year'].value_counts()\n"
     ]
    }
   ],
   "source": [
    "crimes_us1 = crimes_us[[\"Victim's race\", \"State_x\", \"total\", \"year\", \"State_y\"]]\n",
    "crimes_us2 = crimes_us1.groupby('State_x')[\"Victim's race\", 'year'].value_counts()\n",
    "crimes_us2 = pd.DataFrame(crimes_us2)\n",
    "crimes_us2.reset_index()\n",
    "\n",
    "crimes_us2 = pd.merge(crimes_us2, crimes_us1, right_on = [\"Victim's race\", 'State_x','year'], left_on = [\"Victim's race\", \"State_x\",'year'], how = 'inner')\n",
    "crimes_us2.rename(columns = {0:'aantal_per_etniciteit'}, inplace = True)\n",
    "crimes_us2['per miljoen inwoners race'] = (crimes_us2['aantal_per_etniciteit'] * 1000000) / crimes_us2['total']\n",
    "\n",
    "crimes_us = pd.merge(crimes_us, crimes_us2, right_on = [\"Victim's race\", 'State_x','year'], left_on = [\"Victim's race\", \"State_x\",'year'], how = 'inner')\n",
    "crimes_us = crimes_us.drop_duplicates()"
   ]
  },
  {
   "cell_type": "markdown",
   "id": "0b5e28c9",
   "metadata": {},
   "source": [
    "# Streamlit"
   ]
  },
  {
   "cell_type": "code",
   "execution_count": 11,
   "id": "e417dbe3",
   "metadata": {},
   "outputs": [
    {
     "name": "stderr",
     "output_type": "stream",
     "text": [
      "2022-04-13 11:11:06.679 \n",
      "  \u001b[33m\u001b[1mWarning:\u001b[0m to view this Streamlit app on a browser, run it with the following\n",
      "  command:\n",
      "\n",
      "    streamlit run C:\\Users\\noudv\\anaconda3\\envs\\geo_env\\lib\\site-packages\\ipykernel_launcher.py [ARGUMENTS]\n"
     ]
    },
    {
     "data": {
      "text/plain": [
       "DeltaGenerator(_root_container=0, _provided_cursor=None, _parent=None, _block_type=None, _form_data=None)"
      ]
     },
     "execution_count": 11,
     "metadata": {},
     "output_type": "execute_result"
    }
   ],
   "source": [
    "st.title('Politiegeweld in de Verenigde Staten')"
   ]
  },
  {
   "cell_type": "code",
   "execution_count": 12,
   "id": "e087aa5b",
   "metadata": {},
   "outputs": [],
   "source": [
    "st.write(\"Deze dashboard gaat over het aantal dodelijke slachtoffers door politiehandelen in de Verenige Staten in de jaren 2013 - 2021. De hoofd dataset is van de website mappingpoliceviolence.org gehaald. Deze website registreert het aantal incidenten.\")"
   ]
  },
  {
   "cell_type": "code",
   "execution_count": 13,
   "id": "261b4615",
   "metadata": {},
   "outputs": [
    {
     "data": {
      "text/plain": [
       "DeltaGenerator(_root_container=0, _provided_cursor=None, _parent=None, _block_type=None, _form_data=None)"
      ]
     },
     "execution_count": 13,
     "metadata": {},
     "output_type": "execute_result"
    }
   ],
   "source": [
    "st.header('Kaart van politiegeweld per staat')"
   ]
  },
  {
   "cell_type": "code",
   "execution_count": 14,
   "id": "2e936424",
   "metadata": {},
   "outputs": [],
   "source": [
    "st.write('Hieronder is de kaart van de Verenigde Staten te zien. Elke staat is weergegeven met een kleur. Hoe donkerder de kleur is, hoe hoger het aantal dodelijk slachtoffers van politiegeweld. Met de selectieknop kan je het aantal slachtoffers per miljoen inwoners of het absolute aantal selecteren.')"
   ]
  },
  {
   "cell_type": "markdown",
   "id": "9b5080be",
   "metadata": {},
   "source": [
    "### Jaarselectie"
   ]
  },
  {
   "cell_type": "code",
   "execution_count": 15,
   "id": "9d6bad39",
   "metadata": {},
   "outputs": [
    {
     "name": "stderr",
     "output_type": "stream",
     "text": [
      "C:\\Users\\noudv\\AppData\\Local\\Temp\\ipykernel_5476\\103520779.py:5: SettingWithCopyWarning: \n",
      "A value is trying to be set on a copy of a slice from a DataFrame.\n",
      "Try using .loc[row_indexer,col_indexer] = value instead\n",
      "\n",
      "See the caveats in the documentation: https://pandas.pydata.org/pandas-docs/stable/user_guide/indexing.html#returning-a-view-versus-a-copy\n",
      "  yearselect['absolute aantal'] = yearselect.groupby('State_x')['State_x'].transform('count')\n",
      "C:\\Users\\noudv\\AppData\\Local\\Temp\\ipykernel_5476\\103520779.py:6: SettingWithCopyWarning: \n",
      "A value is trying to be set on a copy of a slice from a DataFrame.\n",
      "Try using .loc[row_indexer,col_indexer] = value instead\n",
      "\n",
      "See the caveats in the documentation: https://pandas.pydata.org/pandas-docs/stable/user_guide/indexing.html#returning-a-view-versus-a-copy\n",
      "  yearselect['per miljoen inwoners'] = (yearselect['absolute aantal'] * 1000000) / yearselect['population']\n"
     ]
    }
   ],
   "source": [
    "inputyear = st.sidebar.selectbox('Selecteer jaar', ('2013', '2014', '2015','2016','2017','2018','2019','2020','2021'))\n",
    "\n",
    "yearselect = crimes_us[crimes_us['year']==inputyear]\n",
    "\n",
    "yearselect['absolute aantal'] = yearselect.groupby('State_x')['State_x'].transform('count')\n",
    "yearselect['per miljoen inwoners'] = (yearselect['absolute aantal'] * 1000000) / yearselect['population']\n",
    "\n",
    "figuur = ['per miljoen inwoners', 'absolute aantal']\n",
    "\n",
    "figuur = st.radio('Selectie', figuur)\n",
    "\n",
    "if figuur == 'absolute aantal':\n",
    "    'absolute aantal'\n",
    "else:\n",
    "    'per miljoen inwoners'"
   ]
  },
  {
   "cell_type": "markdown",
   "id": "b42bb6f0",
   "metadata": {},
   "source": [
    "### Kaart"
   ]
  },
  {
   "cell_type": "code",
   "execution_count": 16,
   "id": "a3d9a990",
   "metadata": {},
   "outputs": [
    {
     "name": "stderr",
     "output_type": "stream",
     "text": [
      "C:\\Users\\noudv\\anaconda3\\envs\\geo_env\\lib\\site-packages\\folium\\folium.py:409: FutureWarning: The choropleth  method has been deprecated. Instead use the new Choropleth class, which has the same arguments. See the example notebook 'GeoJSON_and_choropleth' for how to do this.\n",
      "  warnings.warn(\n"
     ]
    },
    {
     "data": {
      "text/plain": [
       "DeltaGenerator(_root_container=0, _provided_cursor=None, _parent=None, _block_type=None, _form_data=None)"
      ]
     },
     "execution_count": 16,
     "metadata": {},
     "output_type": "execute_result"
    }
   ],
   "source": [
    "us_map = folium.Map(location=[37.6, -95.665], \n",
    "                    zoom_start=4,\n",
    "                    scrollWheelZoom = False,\n",
    "                    zoom_control = True, \n",
    "                    dragging = True)\n",
    "\n",
    "us_map.choropleth(geo_data = states,\n",
    "                  name = 'geometry',\n",
    "                  data = yearselect,\n",
    "                  columns = ['State_y_y', figuur],\n",
    "                  key_on = 'feature.properties.NAME',\n",
    "                  fill_color = 'OrRd',\n",
    "                  fill_opacity = 0.75,\n",
    "                  line_opacity = 1,\n",
    "                  legend_name = 'Aantal slachtoffers')\n",
    "\n",
    "style = {'fillColor': '#00000000', 'color': '#00000000'}\n",
    "\n",
    "us_states = folium.GeoJson(states, name = 'geojson', style_function=lambda x: style).add_to(us_map)\n",
    "folium.GeoJsonTooltip(fields = ['NAME']).add_to(us_states)\n",
    "\n",
    "folium_static(us_map)"
   ]
  },
  {
   "cell_type": "code",
   "execution_count": 17,
   "id": "9feede0c",
   "metadata": {},
   "outputs": [],
   "source": [
    "with st.expander(\"Bronnen\"):\n",
    "     st.write(\"https://mappingpoliceviolence.org/\")\n",
    "     st.write(\"https://raw.githubusercontent.com/jasonong/List-of-US-States/master/states.csv\")\n",
    "     st.write(\"https://eric.clst.org/tech/usgeojson/\")    "
   ]
  },
  {
   "cell_type": "code",
   "execution_count": 18,
   "id": "e567cdce",
   "metadata": {},
   "outputs": [
    {
     "data": {
      "text/plain": [
       "DeltaGenerator(_root_container=0, _provided_cursor=None, _parent=None, _block_type=None, _form_data=None)"
      ]
     },
     "execution_count": 18,
     "metadata": {},
     "output_type": "execute_result"
    }
   ],
   "source": [
    "st.markdown('---')"
   ]
  },
  {
   "cell_type": "code",
   "execution_count": 19,
   "id": "f7f85c20",
   "metadata": {},
   "outputs": [
    {
     "data": {
      "text/plain": [
       "DeltaGenerator(_root_container=0, _provided_cursor=None, _parent=None, _block_type=None, _form_data=None)"
      ]
     },
     "execution_count": 19,
     "metadata": {},
     "output_type": "execute_result"
    }
   ],
   "source": [
    "st.header('Visualisatie van de data')"
   ]
  },
  {
   "cell_type": "markdown",
   "id": "634e746a",
   "metadata": {},
   "source": [
    "### Staatselectie"
   ]
  },
  {
   "cell_type": "code",
   "execution_count": 20,
   "id": "4c67d9fe",
   "metadata": {},
   "outputs": [
    {
     "data": {
      "text/plain": [
       "DeltaGenerator(_root_container=0, _provided_cursor=None, _parent=None, _block_type=None, _form_data=None)"
      ]
     },
     "execution_count": 20,
     "metadata": {},
     "output_type": "execute_result"
    }
   ],
   "source": [
    "st.subheader(\"Afkomst van de slachtoffer per staat\")"
   ]
  },
  {
   "cell_type": "code",
   "execution_count": 21,
   "id": "bdaaa050",
   "metadata": {},
   "outputs": [],
   "source": [
    "st.write(\"Hieronder is een histogram te zien van het aantal slachtoffers per afkomst. In de sidebar kun je het jaar selecteren. De staat is ook te selecteren met de selectieknop. Het is ook mogelijk om het aantal slachtoffers in absolute en per miljoen inwoners te selecteren.\")"
   ]
  },
  {
   "cell_type": "code",
   "execution_count": 22,
   "id": "39bc8bf6",
   "metadata": {},
   "outputs": [],
   "source": [
    "staten = ['Alaska', 'Alabama', 'Arkansas', 'Arizona', 'California',\n",
    "       'Colorado', 'Connecticut', 'District of Columbia', 'Delaware',\n",
    "       'Florida', 'Georgia', 'Hawaii', 'Iowa', 'Idaho', 'Illinois',\n",
    "       'Indiana', 'Kansas', 'Kentucky', 'Louisiana', 'Massachusetts',\n",
    "       'Maryland', 'Maine', 'Michigan', 'Minnesota', 'Missouri',\n",
    "       'Mississippi', 'Montana', 'North Carolina', 'North Dakota',\n",
    "       'Nebraska', 'New Hampshire', 'New Jersey', 'New Mexico', 'Nevada',\n",
    "       'New York', 'Ohio', 'Oklahoma', 'Oregon', 'Pennsylvania',\n",
    "       'Rhode Island', 'South Carolina', 'South Dakota', 'Tennessee',\n",
    "       'Texas', 'Utah', 'Virginia', 'Vermont', 'Washington', 'Wisconsin',\n",
    "       'West Virginia', 'Wyoming']"
   ]
  },
  {
   "cell_type": "code",
   "execution_count": 23,
   "id": "64409858",
   "metadata": {},
   "outputs": [],
   "source": [
    "inputstate = st.selectbox('Selecteer staat', (staten))\n",
    "\n",
    "stateselect = yearselect[yearselect['State_y_y']==inputstate]"
   ]
  },
  {
   "cell_type": "markdown",
   "id": "2fb337b1",
   "metadata": {},
   "source": [
    "### Visualisaties"
   ]
  },
  {
   "cell_type": "code",
   "execution_count": 24,
   "id": "851228f3",
   "metadata": {},
   "outputs": [],
   "source": [
    "fig_race = px.histogram(stateselect, x=\"Victim's race\", \n",
    "                        category_orders = {\"Victim's race\" :['White', 'Black', 'Hispanic', 'Native American', \n",
    "                                                             'Asian', 'Pacific Islander', 'Unknown race']}).update_layout(\n",
    "                                                              title={\"text\": \"Afkomst van slachtoffers per jaar\", \"x\": 0.5},xaxis_title= 'Afkomst', yaxis_title=\"Aantal\")\n"
   ]
  },
  {
   "cell_type": "code",
   "execution_count": 25,
   "id": "59326f65",
   "metadata": {},
   "outputs": [],
   "source": [
    "fig_race1 = px.histogram(stateselect, y = 'per miljoen inwoners race',x=\"Victim's race\", category_orders = {\"Victim's race\" :['White', 'Black', 'Hispanic', 'Native American', 'Asian', 'Pacific Islander', 'Unknown race']}, histfunc  = 'max')\n"
   ]
  },
  {
   "cell_type": "code",
   "execution_count": 26,
   "id": "7601997e",
   "metadata": {},
   "outputs": [],
   "source": [
    "fig_select = ['absolute aantal', 'per miljoen inwoners']\n",
    "\n",
    "fig_select = st.radio('Selectie', fig_select)\n",
    "\n",
    "if fig_select == 'absolute aantal':\n",
    "    fig_race\n",
    "else:\n",
    "    fig_race1"
   ]
  },
  {
   "cell_type": "code",
   "execution_count": 27,
   "id": "cfeb4741",
   "metadata": {},
   "outputs": [],
   "source": [
    "st.write(fig_select)"
   ]
  },
  {
   "cell_type": "code",
   "execution_count": 28,
   "id": "72c162b1",
   "metadata": {},
   "outputs": [],
   "source": [
    "with st.expander(\"Bronnen\"):\n",
    "     st.write('https://www2.census.gov/programs-surveys/popest/datasets/2020-2021/state/totals/NST-EST2021-alldata.csv')\n",
    "     st.write('https://www2.census.gov/programs-surveys/popest/datasets/2010-2019/national/totals/nst-est2019-alldata.csv')\n",
    "      "
   ]
  },
  {
   "cell_type": "code",
   "execution_count": 29,
   "id": "ae515e2f",
   "metadata": {},
   "outputs": [
    {
     "data": {
      "text/plain": [
       "DeltaGenerator(_root_container=0, _provided_cursor=None, _parent=None, _block_type=None, _form_data=None)"
      ]
     },
     "execution_count": 29,
     "metadata": {},
     "output_type": "execute_result"
    }
   ],
   "source": [
    "st.markdown('---')"
   ]
  },
  {
   "cell_type": "code",
   "execution_count": 30,
   "id": "93a9a0b7",
   "metadata": {},
   "outputs": [
    {
     "data": {
      "text/plain": [
       "DeltaGenerator(_root_container=0, _provided_cursor=None, _parent=None, _block_type=None, _form_data=None)"
      ]
     },
     "execution_count": 30,
     "metadata": {},
     "output_type": "execute_result"
    }
   ],
   "source": [
    "st.subheader(\"Leeftijd van de slachtoffers per jaar\")"
   ]
  },
  {
   "cell_type": "code",
   "execution_count": 31,
   "id": "2fd45a03",
   "metadata": {},
   "outputs": [],
   "source": [
    "st.write(\"Hieronder is de verdeling van de leeftijd van de slachtoffers te zien. Met de selectieknop kun je selecteren om de histogram of boxplot te zien.\")"
   ]
  },
  {
   "cell_type": "code",
   "execution_count": 32,
   "id": "d85c013f",
   "metadata": {},
   "outputs": [],
   "source": [
    "fig_age = px.histogram(yearselect, x=yearselect[\"Victim's age\"].sort_values().replace('Unknown', np.nan).dropna()).update_layout(\n",
    "                                                              title={\"text\": \"Leeftijd van slachtoffers per jaar\", \"x\": 0.5},xaxis_title= 'Leeftijd', yaxis_title=\"Aantal\")\n"
   ]
  },
  {
   "cell_type": "code",
   "execution_count": 33,
   "id": "8b68b3c1",
   "metadata": {},
   "outputs": [],
   "source": [
    "fig_box = px.box(crimes_us, y=yearselect[\"Victim's age\"].sort_values().replace('Unknown', np.nan)).update_layout(\n",
    "                                                              title={\"text\": \"Leeftijd van slachtoffers per jaar\", \"x\": 0.5},yaxis_title= 'Leeftijd')\n"
   ]
  },
  {
   "cell_type": "code",
   "execution_count": 34,
   "id": "c9a190ac",
   "metadata": {},
   "outputs": [],
   "source": [
    "box_select = ['histogram','boxplot']\n",
    "\n",
    "box_select = st.radio('Selectie', box_select)\n",
    "\n",
    "if box_select == 'histogram':\n",
    "    fig_age\n",
    "else:\n",
    "    fig_box"
   ]
  },
  {
   "cell_type": "code",
   "execution_count": 35,
   "id": "64481635",
   "metadata": {},
   "outputs": [],
   "source": [
    "st.write(box_select)"
   ]
  },
  {
   "cell_type": "code",
   "execution_count": 36,
   "id": "9735a2c6",
   "metadata": {},
   "outputs": [],
   "source": [
    "with st.expander(\"Bronnen\"):\n",
    "     st.write(\"https://mappingpoliceviolence.org/\")"
   ]
  },
  {
   "cell_type": "code",
   "execution_count": 37,
   "id": "860f98f6",
   "metadata": {},
   "outputs": [
    {
     "data": {
      "text/plain": [
       "DeltaGenerator(_root_container=0, _provided_cursor=None, _parent=None, _block_type=None, _form_data=None)"
      ]
     },
     "execution_count": 37,
     "metadata": {},
     "output_type": "execute_result"
    }
   ],
   "source": [
    "st.markdown('---')"
   ]
  },
  {
   "cell_type": "code",
   "execution_count": 38,
   "id": "8fbd9a17",
   "metadata": {},
   "outputs": [
    {
     "data": {
      "text/plain": [
       "DeltaGenerator(_root_container=0, _provided_cursor=None, _parent=None, _block_type=None, _form_data=None)"
      ]
     },
     "execution_count": 38,
     "metadata": {},
     "output_type": "execute_result"
    }
   ],
   "source": [
    "st.header('Lineaire regressie')"
   ]
  },
  {
   "cell_type": "code",
   "execution_count": 39,
   "id": "a7f956c1",
   "metadata": {},
   "outputs": [],
   "source": [
    "st.write(\"Voor de lineaire regressie hebben we de populatie en werkloosheid per staat als onafhankelijke variabelen genomen. De afhankelijke variable is het aantal slachtoffers. De data voor de populatie komt van de website van de Cencus Bureau van de Verenigde Staten. De data voor de werkloosheid komt van de website van de U.S. Bureau of Labor Statistics.\")"
   ]
  },
  {
   "cell_type": "code",
   "execution_count": 40,
   "id": "32481595",
   "metadata": {},
   "outputs": [
    {
     "data": {
      "text/plain": [
       "DeltaGenerator(_root_container=0, _provided_cursor=None, _parent=None, _block_type=None, _form_data=None)"
      ]
     },
     "execution_count": 40,
     "metadata": {},
     "output_type": "execute_result"
    }
   ],
   "source": [
    "st.subheader(\"Correlatie van de werkloosheidspercentage en aantal slachtoffers per jaar en staat\")"
   ]
  },
  {
   "cell_type": "code",
   "execution_count": 41,
   "id": "516fe17c",
   "metadata": {},
   "outputs": [],
   "source": [
    "st.write(\"Hieronder is de werkloosheid tegenover het aantal slachtoffers in een scatterplot gezet. In de scatterplot lijkt het alsof er geen verband is tussen de twee variabelen.\")"
   ]
  },
  {
   "cell_type": "code",
   "execution_count": 42,
   "id": "d38e2845",
   "metadata": {},
   "outputs": [],
   "source": [
    "line_select = [None, 'ols']\n",
    "\n",
    "line_select = st.radio('Selectie', line_select)\n",
    "\n",
    "if line_select == None:\n",
    "    None\n",
    "else:\n",
    "    'ols'"
   ]
  },
  {
   "cell_type": "code",
   "execution_count": 43,
   "id": "8f98fcbb",
   "metadata": {},
   "outputs": [],
   "source": [
    "fig_scatter2 = px.scatter(x=crimes_us['unemploy rate'], y=crimes_us['crimes_per_year_state'], trendline=line_select, color = crimes_us.year,\n",
    "                                                              trendline_scope = 'overall', hover_name = crimes_us['State_y_y']).update_layout(\n",
    "                                                              title={\"text\": \"Scatterplot van werkloosheid en aantal slachtoffers per jaar en staat\", \"x\": 0.5},xaxis_title= 'Werkloosheid in %', yaxis_title=\"Aantal slachtoffers\")\n",
    "st.write(fig_scatter2)"
   ]
  },
  {
   "cell_type": "code",
   "execution_count": 44,
   "id": "fa777aba",
   "metadata": {},
   "outputs": [
    {
     "data": {
      "text/plain": [
       "DeltaGenerator(_root_container=0, _provided_cursor=None, _parent=None, _block_type=None, _form_data=None)"
      ]
     },
     "execution_count": 44,
     "metadata": {},
     "output_type": "execute_result"
    }
   ],
   "source": [
    "st.subheader(\"Correlatie tussen de populatie en aantal slachtoffers per jaar en staat\")"
   ]
  },
  {
   "cell_type": "code",
   "execution_count": 45,
   "id": "5e7b81ef",
   "metadata": {},
   "outputs": [],
   "source": [
    "st.write(\"Hieronder is de populatie tegenover het aantal slachtoffers gezet in een scatterplot. Er is te zien dat het aantal slachtoffers toeneemt bij een toenemende populatie.\")"
   ]
  },
  {
   "cell_type": "code",
   "execution_count": 46,
   "id": "37d1fa48",
   "metadata": {},
   "outputs": [],
   "source": [
    "fig_scatter = px.scatter(x=crimes_us['population'], y=crimes_us['crimes_per_year_state'], trendline=line_select, color = crimes_us.year,\n",
    "                                                              trendline_scope = 'overall', hover_name = crimes_us['State_y_y']).update_layout(\n",
    "                                                              title={\"text\": \"Scatterplot van de populatie en aantal slachtoffers per jaar en staat\", \"x\": 0.5},xaxis_title= 'Populatie', yaxis_title=\"Aantal slachtoffers\"\n",
    "                                                              )\n",
    "st.write(fig_scatter)"
   ]
  },
  {
   "cell_type": "code",
   "execution_count": 47,
   "id": "decd02d2",
   "metadata": {},
   "outputs": [],
   "source": [
    "with st.expander(\"Bronnen\"):\n",
    "     st.write('https://www2.census.gov/programs-surveys/popest/datasets/2020-2021/state/totals/NST-EST2021-alldata.csv')\n",
    "     st.write('https://www2.census.gov/programs-surveys/popest/datasets/2010-2019/national/totals/nst-est2019-alldata.csv')\n",
    "     st.write('https://www.icip.iastate.edu/tables/employment/unemployment-states')\n",
    "     st.write('https://www.bls.gov/web/laus/laumstrk.htm') "
   ]
  },
  {
   "cell_type": "code",
   "execution_count": 48,
   "id": "1d82851c",
   "metadata": {},
   "outputs": [
    {
     "data": {
      "text/plain": [
       "DeltaGenerator(_root_container=0, _provided_cursor=None, _parent=None, _block_type=None, _form_data=None)"
      ]
     },
     "execution_count": 48,
     "metadata": {},
     "output_type": "execute_result"
    }
   ],
   "source": [
    "st.markdown('---')"
   ]
  },
  {
   "cell_type": "markdown",
   "id": "cd4d048c",
   "metadata": {},
   "source": [
    "### Lineaire regressie"
   ]
  },
  {
   "cell_type": "code",
   "execution_count": 49,
   "id": "cc5651bf",
   "metadata": {},
   "outputs": [
    {
     "data": {
      "text/plain": [
       "DeltaGenerator(_root_container=0, _provided_cursor=None, _parent=None, _block_type=None, _form_data=None)"
      ]
     },
     "execution_count": 49,
     "metadata": {},
     "output_type": "execute_result"
    }
   ],
   "source": [
    "st.subheader('Resultaat van de regressie')"
   ]
  },
  {
   "cell_type": "code",
   "execution_count": 50,
   "id": "091d7b74",
   "metadata": {},
   "outputs": [],
   "source": [
    "st.write(\"Er is een lineaire regressie voor de werkloosheid en aantal slachtoffers gedaan om te kijken of er een correlatie is. Uit onderstaande samenvatting is te zien dat de R2 waarde 0.050272 is en dit geeft een R-waarde (correlatie) van 0.224. Deze waarde is dichtbij nul en geeft aan dat de correlatie niet hoog is tussen deze twee variabelen.\")"
   ]
  },
  {
   "cell_type": "code",
   "execution_count": 51,
   "id": "3c873d84",
   "metadata": {},
   "outputs": [],
   "source": [
    "X1 = crimes_us[['unemploy rate']]\n",
    "Y1 = crimes_us['crimes_per_year_state']\n",
    "\n",
    "X1 = sm.add_constant(X1)\n",
    "\n",
    "model = sm.OLS(Y1,X1).fit()"
   ]
  },
  {
   "cell_type": "code",
   "execution_count": 52,
   "id": "93dc6758",
   "metadata": {},
   "outputs": [
    {
     "data": {
      "text/plain": [
       "DeltaGenerator(_root_container=0, _provided_cursor=None, _parent=None, _block_type=None, _form_data=None)"
      ]
     },
     "execution_count": 52,
     "metadata": {},
     "output_type": "execute_result"
    }
   ],
   "source": [
    "predictions = model.predict(X1)\n",
    "\n",
    "print_model = model.summary()\n",
    "\n",
    "image0 = Image.open('unemploy regression.png')\n",
    "\n",
    "st.image(image0)"
   ]
  },
  {
   "cell_type": "code",
   "execution_count": 53,
   "id": "260b94e5",
   "metadata": {},
   "outputs": [],
   "source": [
    "st.write(\"Er is ook een lineaire regressie voor de populatie en aantal slachtoffers gedaan om te kijken of er een correlatie is. Uit onderstaande samenvatting is te zien dat de R2 waarde 0.881411 is en dit geeft een R-waarde (correlatie) van 0.938841. Deze waarde is dichtbij 1 en geeft aan dat er wel een (positieve) correlatie is tussen deze twee variabelen.\")"
   ]
  },
  {
   "cell_type": "code",
   "execution_count": 54,
   "id": "06120676",
   "metadata": {},
   "outputs": [],
   "source": [
    "X2 = crimes_us[['population']]\n",
    "Y2 = crimes_us['crimes_per_year_state']\n",
    "\n",
    "X2 = sm.add_constant(X2)\n",
    "\n",
    "model = sm.OLS(Y2,X2).fit()"
   ]
  },
  {
   "cell_type": "code",
   "execution_count": 55,
   "id": "7ae3d3f9",
   "metadata": {
    "scrolled": false
   },
   "outputs": [
    {
     "data": {
      "text/plain": [
       "DeltaGenerator(_root_container=0, _provided_cursor=None, _parent=None, _block_type=None, _form_data=None)"
      ]
     },
     "execution_count": 55,
     "metadata": {},
     "output_type": "execute_result"
    }
   ],
   "source": [
    "predictions = model.predict(X2)\n",
    "\n",
    "print_model = model.summary()\n",
    "\n",
    "image1 = Image.open('population regression.png')\n",
    "\n",
    "st.image(image1)"
   ]
  },
  {
   "cell_type": "code",
   "execution_count": 56,
   "id": "92dc567d",
   "metadata": {},
   "outputs": [
    {
     "data": {
      "text/plain": [
       "DeltaGenerator(_root_container=0, _provided_cursor=None, _parent=None, _block_type=None, _form_data=None)"
      ]
     },
     "execution_count": 56,
     "metadata": {},
     "output_type": "execute_result"
    }
   ],
   "source": [
    "st.subheader(\"Residplots\")"
   ]
  },
  {
   "cell_type": "code",
   "execution_count": 57,
   "id": "12171615",
   "metadata": {},
   "outputs": [],
   "source": [
    "st.write(\"Voor de variabele populatie is er ook naar de residplot gekeken. Deze plot laat zien hoeveel de regressielijn verschilt van de datapunten. \")"
   ]
  },
  {
   "cell_type": "code",
   "execution_count": 58,
   "id": "057b7fed",
   "metadata": {},
   "outputs": [
    {
     "data": {
      "text/plain": [
       "DeltaGenerator(_root_container=0, _provided_cursor=None, _parent=None, _block_type=None, _form_data=None)"
      ]
     },
     "execution_count": 58,
     "metadata": {},
     "output_type": "execute_result"
    },
    {
     "data": {
      "image/png": "[encoded data removed]",
      "text/plain": [
       "<Figure size 432x288 with 1 Axes>"
      ]
     },
     "metadata": {
      "needs_background": "light"
     },
     "output_type": "display_data"
    }
   ],
   "source": [
    "residfig = sns.residplot(x='population', y='crimes_per_year_state', data = crimes_us)\n",
    "\n",
    "image1 = Image.open('residplot1.png')\n",
    "\n",
    "st.image(image1)"
   ]
  },
  {
   "cell_type": "code",
   "execution_count": null,
   "id": "68fff42c",
   "metadata": {},
   "outputs": [],
   "source": []
  }
 ],
 "metadata": {
  "kernelspec": {
   "display_name": "geo_env",
   "language": "python",
   "name": "geo_env"
  },
  "language_info": {
   "codemirror_mode": {
    "name": "ipython",
    "version": 3
   },
   "file_extension": ".py",
   "mimetype": "text/x-python",
   "name": "python",
   "nbconvert_exporter": "python",
   "pygments_lexer": "ipython3",
   "version": "3.10.2"
  }
 },
 "nbformat": 4,
 "nbformat_minor": 5
}
